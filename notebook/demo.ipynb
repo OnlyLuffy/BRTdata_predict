{
 "cells": [
  {
   "cell_type": "code",
   "execution_count": 1,
   "metadata": {},
   "outputs": [
    {
     "name": "stdout",
     "output_type": "stream",
     "text": [
      "(26208, 358, 1)\n"
     ]
    }
   ],
   "source": [
    "import numpy as np\n",
    "\n",
    "data = np.load(\"../data/PEMS03/PEMS03.npz\")['data']\n",
    "print(data.shape)\n",
    "newdata = data[:5760,0,0]\n",
    "print(newdata.shape)\n",
    "np.savez(\"../data/PEMS03/new_pems03.npz\", data=newdata)\n"
   ]
  }
 ],
 "metadata": {
  "kernelspec": {
   "display_name": "torch1-10",
   "language": "python",
   "name": "python3"
  },
  "language_info": {
   "codemirror_mode": {
    "name": "ipython",
    "version": 3
   },
   "file_extension": ".py",
   "mimetype": "text/x-python",
   "name": "python",
   "nbconvert_exporter": "python",
   "pygments_lexer": "ipython3",
   "version": "3.8.17"
  }
 },
 "nbformat": 4,
 "nbformat_minor": 2
}
