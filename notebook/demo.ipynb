{
 "cells": [
  {
   "cell_type": "code",
   "execution_count": 2,
   "metadata": {},
   "outputs": [
    {
     "name": "stdout",
     "output_type": "stream",
     "text": [
      "[[4. 2. 4.]\n",
      " [1. 8. 5.]\n",
      " [4. 6. 5.]\n",
      " [7. 2. 8.]\n",
      " [9. 3. 3.]]\n",
      "(1, 3)\n",
      "(1, 3)\n",
      "[[0.375      0.         0.2       ]\n",
      " [0.         1.         0.4       ]\n",
      " [0.375      0.6666667  0.4       ]\n",
      " [0.75       0.         1.        ]\n",
      " [1.         0.16666667 0.        ]]\n"
     ]
    }
   ],
   "source": [
    "import numpy as np\n",
    "# 生成形状为（samples, sequence_length, features）的随机数组\n",
    "sequence_length = 5\n",
    "features = 3\n",
    "\n",
    "# 生成随机数据作为示例\n",
    "data = np.random.randint(0, 10,(sequence_length, features))\n",
    "data = data.astype(np.float32)\n",
    "print(data)\n",
    "# 计算每个特征维度的最小值和最大值\n",
    "min_vals = np.min(data, axis=0)  # 每个特征维度的最小值\n",
    "max_vals = np.max(data, axis=0)  # 每个特征维度的最大值\n",
    "min_vals = np.expand_dims(min_vals, axis=0)\n",
    "max_vals = np.expand_dims(max_vals, axis=0)\n",
    "print(min_vals.shape)\n",
    "print(max_vals.shape)\n",
    "# 对每个特征维度进行 min-max 归一化处理\n",
    "normalized_data = (data - min_vals) / (max_vals - min_vals)\n",
    "print(normalized_data)"
   ]
  }
 ],
 "metadata": {
  "kernelspec": {
   "display_name": "torch1-10",
   "language": "python",
   "name": "python3"
  },
  "language_info": {
   "codemirror_mode": {
    "name": "ipython",
    "version": 3
   },
   "file_extension": ".py",
   "mimetype": "text/x-python",
   "name": "python",
   "nbconvert_exporter": "python",
   "pygments_lexer": "ipython3",
   "version": "3.8.17"
  }
 },
 "nbformat": 4,
 "nbformat_minor": 2
}
